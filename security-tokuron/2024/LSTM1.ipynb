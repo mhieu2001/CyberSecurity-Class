{
 "cells": [
  {
   "cell_type": "code",
   "execution_count": 1,
   "metadata": {},
   "outputs": [],
   "source": [
    "import argparse\n",
    "import os\n",
    "import sys\n",
    "import time\n",
    "import matplotlib.pyplot as plt\n",
    "import numpy as np\n",
    "import tensorflow as tf\n",
    "from tensorflow.python.eager import context\n",
    "\n",
    "np.random.seed(555)"
   ]
  },
  {
   "cell_type": "code",
   "execution_count": 2,
   "metadata": {},
   "outputs": [],
   "source": [
    "class FRNN(tf.keras.Model):\n",
    "    \n",
    "    def __init__(self, hidden_dim):\n",
    "        super().__init__()\n",
    "        self.lstm = tf.compat.v1.nn.rnn_cell.LSTMCell(num_units=hidden_dim,\n",
    "                                                      state_is_tuple=True)\n",
    "\n",
    "    def call(self, input_seq):\n",
    "        batch_size = input_seq.shape[1]\n",
    "        state = self.lstm.zero_state(batch_size, tf.float32)\n",
    "\n",
    "        X = tf.transpose(input_seq, [1, 0, 2])\n",
    "        _, state = tf.compat.v1.nn.dynamic_rnn(self.lstm,\n",
    "                                               X,\n",
    "                                               initial_state=state)\n",
    "        return state"
   ]
  },
  {
   "cell_type": "code",
   "execution_count": 3,
   "metadata": {},
   "outputs": [],
   "source": [
    "class BRNN(tf.keras.Model):\n",
    "    \n",
    "    def __init__(self, hidden_dim, n_dim_obs=1, training=True):\n",
    "        super().__init__()\n",
    "\n",
    "        self.lstm = \\\n",
    "            tf.compat.v1.nn.rnn_cell.LSTMCell(num_units=hidden_dim,\n",
    "                                              state_is_tuple=True)\n",
    "\n",
    "        self.out_linear = tf.keras.layers.Dense(\n",
    "            n_dim_obs,\n",
    "            kernel_initializer=tf.random_uniform_initializer(-0.1, 0.1))\n",
    " \n",
    "        self.shape_linear = tf.keras.layers.Dense(\n",
    "            hidden_dim,\n",
    "            activation=tf.tanh,\n",
    "            kernel_initializer=tf.random_uniform_initializer(-0.1, 0.1))\n",
    "        self.n_dim_obs = n_dim_obs\n",
    "        self.training = training\n",
    "\n",
    "    def predict(self, state, seq_size):\n",
    "        outputs = []\n",
    "        output = self.out_linear(state[0])\n",
    "        outputs.insert(0, output)\n",
    "        for _ in range(1, seq_size):\n",
    "            inp = self.shape_linear(output)\n",
    "            _, state = self.lstm(inp, state)\n",
    "            output = self.out_linear(state[0])\n",
    "            outputs.insert(0, output)\n",
    "        return outputs\n",
    "\n",
    "    def train(self, input_seq, state, seq_size):\n",
    "        outputs = []\n",
    "        output = self.out_linear(state[0])\n",
    "        outputs.insert(0, output)\n",
    "        for t in reversed(range(1, seq_size)):\n",
    "            inp = self.shape_linear(input_seq[t])\n",
    "            out, state = self.lstm(inp, state)\n",
    "            output = self.out_linear(state[0])\n",
    "            outputs.insert(0, output)\n",
    "        return outputs\n",
    "\n",
    "    def call(self, f_lstm_latest_state, seq_size, input_seq=None):\n",
    "        batch_size = f_lstm_latest_state[0].shape[0]\n",
    "        self.lstm.zero_state(batch_size, tf.float32)\n",
    "\n",
    "        state = f_lstm_latest_state[0]\n",
    "\n",
    "        if self.training:\n",
    "            outputs = self.train(input_seq, f_lstm_latest_state, seq_size)\n",
    "        else:\n",
    "            outputs = self.predict(f_lstm_latest_state, seq_size)\n",
    "        return tf.stack(outputs, axis=0)\n"
   ]
  },
  {
   "cell_type": "code",
   "execution_count": 4,
   "metadata": {},
   "outputs": [],
   "source": [
    "class EncDecAD(tf.keras.Model):\n",
    "\n",
    "    def __init__(self,\n",
    "                 hidden_dim,\n",
    "                 n_dim_obs=1,\n",
    "                 training=True):\n",
    "        super().__init__()\n",
    "\n",
    "\n",
    "        self.n_dim_obs = n_dim_obs\n",
    "        self.f_lstm = FRNN(hidden_dim)\n",
    "        self.b_lstm = BRNN(hidden_dim, n_dim_obs, training)\n",
    "        self.trainig = training\n",
    "\n",
    "    def reset(self, training):\n",
    "        self.b_lstm.training = training\n",
    "\n",
    "    def call(self, input_seq, training=True):\n",
    "        self.reset(training)\n",
    "\n",
    "        batch_size = input_seq.shape[1]\n",
    "        seq_size = input_seq.shape[0]\n",
    "        h = self.f_lstm(input_seq)\n",
    " \n",
    "        outputs = self.b_lstm(h, seq_size, input_seq=input_seq)\n",
    "        return outputs\n"
   ]
  },
  {
   "cell_type": "code",
   "execution_count": 5,
   "metadata": {},
   "outputs": [],
   "source": [
    "def loss_fn(model, inputs, targets, training):\n",
    "    seq_len, b_size, n_dim_obs = inputs.shape\n",
    "    labels = tf.reshape(targets, [-1])\n",
    "    outputs = model(inputs, training)\n",
    "\n",
    "    individual_losses = tf.math.reduce_sum(\n",
    "        tf.math.squared_difference(outputs, targets), axis=1)\n",
    "    loss = tf.math.reduce_sum(individual_losses)\n",
    "    return loss, outputs\n"
   ]
  },
  {
   "cell_type": "code",
   "execution_count": 6,
   "metadata": {},
   "outputs": [],
   "source": [
    "def anomaly_score(outputs, targets, normal_data):\n",
    "    seq_length, batch_size, n_dim_obs = targets.shape\n",
    "\n",
    "    eval_residual = np.abs(outputs - targets)\n",
    "    normal_residual = np.abs(outputs - normal_data)\n",
    "\n",
    "    res_mu = normal_residual.mean(axis=(0,1))\n",
    "    res_sig = normal_residual.std(axis=(0,1))\n",
    "    res_sig_inv = np.linalg.pinv(res_sig) if res_sig.shape[0]>1 else 1/res_sig\n",
    "\n",
    "    diff_mu = (eval_residual - res_mu).transpose(1,0,2).reshape(-1, n_dim_obs)\n",
    "    if len(res_sig_inv)==1:\n",
    "        scores = diff_mu / res_sig_inv * diff_mu\n",
    "    else:\n",
    "        scores = diff_mu.dot(res_sig_inv) * diff_mu\n",
    "    return scores.sum(axis=1)"
   ]
  },
  {
   "cell_type": "code",
   "execution_count": 7,
   "metadata": {},
   "outputs": [],
   "source": [
    "def _divide_into_batches(data, batch_size):\n",
    "    n_time, n_dim_obs = data.shape\n",
    "    nbatch = n_time // batch_size\n",
    "    data = data[:nbatch * batch_size]\n",
    "    data = data.reshape(batch_size, -1, n_dim_obs).transpose((1,0,2))\n",
    "    return data"
   ]
  },
  {
   "cell_type": "code",
   "execution_count": 8,
   "metadata": {},
   "outputs": [],
   "source": [
    "def _get_batch(data, i, seq_len):\n",
    "    slen = min(seq_len, data.shape[0] - i)\n",
    "    inputs = data[i:i + slen]\n",
    "    target = inputs.copy()\n",
    "    return tf.constant(inputs), tf.constant(target)\n"
   ]
  },
  {
   "cell_type": "code",
   "execution_count": 9,
   "metadata": {},
   "outputs": [],
   "source": [
    "def evaluate(args, model, eval_data, train_data, training=False):\n",
    "    total_loss = 0.0\n",
    "    total_batches = 0\n",
    "    start = time.time()\n",
    "    l_scores = []\n",
    "    for _, i in enumerate(range(0, eval_data.shape[0], args.seq_len)):\n",
    "        # バッチ毎にデータを取得\n",
    "        inp, target = _get_batch(eval_data, i, args.seq_len)\n",
    "        # 損失計算\n",
    "        loss, outputs = loss_fn(model, inp, target, training=training)\n",
    "        total_loss += loss.numpy()\n",
    "        total_batches += 1\n",
    "\n",
    "        _, batch_size, _= inp.shape\n",
    "        scores = anomaly_score(outputs, target, train_data[:, :batch_size])\n",
    "        l_scores.append(scores)\n",
    "\n",
    "    time_in_ms = (time.time() - start) * 1000\n",
    "    sys.stderr.write(\"eval loss %.2f (eval took %d ms)\\n\" %\n",
    "                   (total_loss / total_batches, time_in_ms))\n",
    "    return total_loss, l_scores, outputs"
   ]
  },
  {
   "cell_type": "code",
   "execution_count": 10,
   "metadata": {},
   "outputs": [],
   "source": [
    "def train(model, optimizer, train_data, sequence_length, clip_ratio,\n",
    "          training=True):\n",
    "\n",
    "    def model_loss(inputs, targets):\n",
    "        return loss_fn(model, inputs, targets, training=training)[0]\n",
    "\n",
    "    total_time = 0\n",
    "    batch_start_idx_range = range(0, train_data.shape[0]-1, sequence_length)\n",
    "    for batch, i in enumerate(batch_start_idx_range):\n",
    "        train_seq, train_target = _get_batch(train_data, i, sequence_length)\n",
    "        start = time.time()\n",
    "        with tf.GradientTape() as tape:\n",
    "            loss, _ = loss_fn(model, train_seq, train_target, training)\n",
    "        grads = tape.gradient(loss, model.trainable_variables)\n",
    "        optimizer.apply_gradients(zip(grads, model.trainable_variables))\n",
    "\n",
    "        total_time += (time.time() - start)\n",
    "        if batch % 10 == 0:\n",
    "            time_in_ms = (total_time * 1000) / (batch + 1)\n",
    "            sys.stderr.write(\n",
    "                \"batch %d: training loss %.2f, avg step time %d ms\\n\" %\n",
    "                    (batch, model_loss(train_seq, train_target).numpy(),\n",
    "                     time_in_ms))\n"
   ]
  },
  {
   "cell_type": "code",
   "execution_count": 11,
   "metadata": {},
   "outputs": [],
   "source": [
    "class Datasets(object):\n",
    "\n",
    "    def __init__(self):\n",
    "        t = np.linspace(0, 5*np.pi, 500)\n",
    "        self.train = 10 * np.sin(t).reshape(-1,1)\n",
    "        self.train = np.tile(np.abs(self.train), (32, 1)).astype('f')\n",
    "\n",
    "        t = np.linspace(0, 4*np.pi, 400)\n",
    "        self.valid = 10 * np.sin(t).reshape(-1,1)\n",
    "        self.valid = np.concatenate(\n",
    "            (np.random.randn(100).reshape(100,1), self.valid),\n",
    "            axis=0)\n",
    "        self.valid = np.tile(np.abs(self.valid), (4, 1)).astype('f')\n",
    "\n"
   ]
  },
  {
   "cell_type": "code",
   "execution_count": 29,
   "metadata": {},
   "outputs": [],
   "source": [
    "import numpy as np\n",
    "\n",
    "#np.array([[1,2,3],[4,5,6],[7,8,9]]).flatten()  \n",
    "\n",
    "def main(args):\n",
    "    if not args.data_path:\n",
    "        raise ValueError(\"Must specify --data-path\")\n",
    "    data = Datasets()\n",
    "\n",
    "    train_data = _divide_into_batches(data.train, args.batch_size)\n",
    "    eval_data = _divide_into_batches(data.valid, args.eval_batch_size)\n",
    "    \n",
    "    plt.plot(train_data.flatten())\n",
    "    plt.show()\n",
    "    plt.plot(eval_data.flatten())\n",
    "    plt.show()\n"
   ]
  },
  {
   "cell_type": "code",
   "execution_count": 30,
   "metadata": {},
   "outputs": [
    {
     "data": {
      "image/png": "[encoded data removed]",
      "text/plain": [
       "<Figure size 432x288 with 1 Axes>"
      ]
     },
     "metadata": {
      "needs_background": "light"
     },
     "output_type": "display_data"
    },
    {
     "data": {
      "image/png": "[encoded data removed]",
      "text/plain": [
       "<Figure size 432x288 with 1 Axes>"
      ]
     },
     "metadata": {
      "needs_background": "light"
     },
     "output_type": "display_data"
    }
   ],
   "source": [
    "if __name__ == \"__main__\":\n",
    "    \n",
    "    parser = argparse.ArgumentParser()\n",
    "    \n",
    "    parser.add_argument(\"--data-path\",type=str,default=\"./\")\n",
    "    parser.add_argument(\"--learning-rate\", type=float, default=.05, help=\"Learning rate.\")\n",
    "    parser.add_argument(\"--epoch\", type=int, default=200, help=\"Number of epoches.\")\n",
    "    parser.add_argument(\"--batch-size\", type=int, default=32, help=\"Batch size.\")\n",
    "    parser.add_argument(\"--eval-batch-size\", type=int, default=4, help=\"Batch size.\")\n",
    "    parser.add_argument(\"--seq-len\", type=int, default=500, help=\"Sequence length.\")\n",
    "    parser.add_argument(\"--hidden-dim\", type=int, default=10, help=\"Hidden layer dimension.\")\n",
    "    parser.add_argument(\"--clip\", type=float, default=0.3, help=\"Gradient clipping ratio.\")\n",
    "    parser.add_argument(\"--training\", type=bool, default=True, help=\"Training or not.\")\n",
    "    \n",
    "    args, unparsed = parser.parse_known_args()\n",
    "    main(args)"
   ]
  },
  {
   "cell_type": "code",
   "execution_count": null,
   "metadata": {},
   "outputs": [],
   "source": []
  }
 ],
 "metadata": {
  "kernelspec": {
   "display_name": "Python 3",
   "language": "python",
   "name": "python3"
  },
  "language_info": {
   "codemirror_mode": {
    "name": "ipython",
    "version": 3
   },
   "file_extension": ".py",
   "mimetype": "text/x-python",
   "name": "python",
   "nbconvert_exporter": "python",
   "pygments_lexer": "ipython3",
   "version": "3.8.5"
  }
 },
 "nbformat": 4,
 "nbformat_minor": 4
}

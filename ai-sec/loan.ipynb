{
 "cells": [
  {
   "cell_type": "markdown",
   "metadata": {},
   "source": [
    "# ローン返済不能"
   ]
  },
  {
   "cell_type": "code",
   "execution_count": 3,
   "metadata": {},
   "outputs": [],
   "source": [
    "import math\n",
    "import os\n",
    "import random\n",
    "from pathlib import Path\n",
    "from collections import defaultdict\n",
    "from itertools import product\n",
    "\n",
    "\n",
    "import pandas as pd\n",
    "import numpy as np\n",
    "\n",
    "from sklearn import preprocessing\n",
    "from sklearn.neighbors import KNeighborsClassifier\n",
    "from sklearn import metrics\n",
    "from sklearn.model_selection import train_test_split\n",
    "from sklearn.tree import DecisionTreeClassifier\n",
    "from sklearn.ensemble import RandomForestClassifier\n",
    "\n",
    "#from xgboost import XGBClassifier\n",
    "#from dmba import plotDecisionTree, textDecisionTree\n",
    "\n",
    "import seaborn as sns\n",
    "import matplotlib.pyplot as plt\n",
    "from matplotlib.patches import Ellipse\n",
    "\n",
    "%matplotlib inline"
   ]
  },
  {
   "cell_type": "code",
   "execution_count": 6,
   "metadata": {},
   "outputs": [
    {
     "name": "stdout",
     "output_type": "stream",
     "text": [
      "      outcome  payment_inc_ratio    dti\n",
      "0      target            9.00000  22.50\n",
      "1     default            5.46933  21.33\n",
      "2    paid off            6.90294   8.97\n",
      "3    paid off           11.14800   1.83\n",
      "4     default            3.72120  10.81\n",
      "..        ...                ...    ...\n",
      "196   default           11.66300  26.09\n",
      "197   default            2.97641  16.41\n",
      "198   default            1.96846  19.98\n",
      "199  paid off            9.64200  20.17\n",
      "200  paid off            7.03924  13.88\n",
      "\n",
      "[201 rows x 3 columns]\n"
     ]
    }
   ],
   "source": [
    "loan200 = pd.read_csv(\"loan200.csv\")\n",
    "\n",
    "print(loan200)"
   ]
  },
  {
   "cell_type": "code",
   "execution_count": 7,
   "metadata": {},
   "outputs": [
    {
     "name": "stdout",
     "output_type": "stream",
     "text": [
      "[[0.45 0.55]]\n"
     ]
    }
   ],
   "source": [
    "predictors = ['payment_inc_ratio', 'dti']\n",
    "outcome = 'outcome'\n",
    "\n",
    "\n",
    "newloan = loan200.loc[0:0, predictors]\n",
    "X = loan200.loc[1:, predictors]\n",
    "y = loan200.loc[1:, outcome]\n",
    "\n",
    "knn = KNeighborsClassifier(n_neighbors=20)\n",
    "knn.fit(X, y)\n",
    "knn.predict(newloan)\n",
    "print(knn.predict_proba(newloan))"
   ]
  },
  {
   "cell_type": "code",
   "execution_count": 8,
   "metadata": {},
   "outputs": [
    {
     "data": {
      "image/png": "[encoded data removed]",
      "text/plain": [
       "<Figure size 288x288 with 1 Axes>"
      ]
     },
     "metadata": {
      "needs_background": "light"
     },
     "output_type": "display_data"
    }
   ],
   "source": [
    "nbrs = knn.kneighbors(newloan)\n",
    "maxDistance = np.max(nbrs[0][0])\n",
    "\n",
    "fig, ax = plt.subplots(figsize=(4, 4))\n",
    "sns.scatterplot(x='payment_inc_ratio', y='dti', style='outcome', \n",
    "                hue='outcome', data=loan200, alpha=0.3, ax=ax)\n",
    "sns.scatterplot(x='payment_inc_ratio', y='dti', style='outcome', \n",
    "                hue='outcome', \n",
    "                data=pd.concat([loan200.loc[0:0, :], loan200.loc[nbrs[1][0] + 1,:]]), \n",
    "                ax=ax, legend=False)\n",
    "ellipse = Ellipse(xy=newloan.values[0], \n",
    "                  width=2 * maxDistance, height=2 * maxDistance,\n",
    "                  edgecolor='black', fc='None', lw=1)\n",
    "ax.add_patch(ellipse)\n",
    "ax.set_xlim(3, 16)\n",
    "ax.set_ylim(15, 30)\n",
    "\n",
    "plt.tight_layout()\n",
    "plt.show()"
   ]
  }
 ],
 "metadata": {
  "kernelspec": {
   "display_name": "Python 3",
   "language": "python",
   "name": "python3"
  },
  "language_info": {
   "codemirror_mode": {
    "name": "ipython",
    "version": 3
   },
   "file_extension": ".py",
   "mimetype": "text/x-python",
   "name": "python",
   "nbconvert_exporter": "python",
   "pygments_lexer": "ipython3",
   "version": "3.8.5"
  }
 },
 "nbformat": 4,
 "nbformat_minor": 4
}
